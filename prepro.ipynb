{
 "cells": [
  {
   "cell_type": "code",
   "execution_count": 1,
   "id": "c83a1440",
   "metadata": {},
   "outputs": [],
   "source": [
    "%load_ext autoreload\n",
    "%autoreload 2"
   ]
  },
  {
   "cell_type": "code",
   "execution_count": 2,
   "id": "8ef1f03e",
   "metadata": {},
   "outputs": [],
   "source": [
    "import numpy as np\n",
    "import matplotlib.pyplot as plt\n",
    "import struct\n",
    "from array import array\n",
    "import os\n",
    "\n",
    "from mnist import load_mnist, export_binary_mnist"
   ]
  },
  {
   "cell_type": "markdown",
   "id": "a9c5399c",
   "metadata": {},
   "source": [
    "# Loading the dataset and pre-processing"
   ]
  },
  {
   "cell_type": "code",
   "execution_count": 3,
   "id": "22ba40fe",
   "metadata": {},
   "outputs": [],
   "source": [
    "X_train, X_test, y_train, y_test = load_mnist(pca=True, n_components=16)"
   ]
  },
  {
   "cell_type": "code",
   "execution_count": 4,
   "id": "ed095150",
   "metadata": {},
   "outputs": [],
   "source": [
    "export_binary_mnist(\n",
    "    X_train,\n",
    "    y_train,\n",
    "    \"data/train-images-pca16\",\n",
    "    \"data/train-labels-binaryMNIST\",\n",
    ")"
   ]
  },
  {
   "cell_type": "code",
   "execution_count": null,
   "id": "8ffe04cc",
   "metadata": {},
   "outputs": [],
   "source": []
  }
 ],
 "metadata": {
  "kernelspec": {
   "display_name": "Python 3 (ipykernel)",
   "language": "python",
   "name": "python3"
  },
  "language_info": {
   "codemirror_mode": {
    "name": "ipython",
    "version": 3
   },
   "file_extension": ".py",
   "mimetype": "text/x-python",
   "name": "python",
   "nbconvert_exporter": "python",
   "pygments_lexer": "ipython3",
   "version": "3.9.7"
  }
 },
 "nbformat": 4,
 "nbformat_minor": 5
}
