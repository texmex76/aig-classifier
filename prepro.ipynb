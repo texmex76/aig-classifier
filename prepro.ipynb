{
 "cells": [
  {
   "cell_type": "code",
   "execution_count": 1,
   "id": "26631f2b",
   "metadata": {},
   "outputs": [],
   "source": [
    "%load_ext autoreload\n",
    "%autoreload 2"
   ]
  },
  {
   "cell_type": "code",
   "execution_count": 2,
   "id": "ecfb2b52",
   "metadata": {},
   "outputs": [],
   "source": [
    "import numpy as np\n",
    "import copy\n",
    "\n",
    "from sklearn import datasets\n",
    "from sklearn.decomposition import PCA\n",
    "from sklearn.preprocessing import MinMaxScaler\n",
    "from sklearn.metrics import accuracy_score\n",
    "from sklearn.model_selection import train_test_split\n",
    "from sklearn.utils import shuffle\n",
    "\n",
    "import matplotlib.pyplot as plt\n",
    "\n",
    "from tqdm.notebook import tqdm\n",
    "\n",
    "color_list = [x[\"color\"] for x in plt.rcParams[\"axes.prop_cycle\"]]\n",
    "\n",
    "from matplotlib.ticker import MaxNLocator\n",
    "\n",
    "import multiprocessing\n",
    "import os\n",
    "import pickle\n",
    "import scipy"
   ]
  },
  {
   "cell_type": "code",
   "execution_count": 3,
   "id": "aaa4e549",
   "metadata": {},
   "outputs": [],
   "source": [
    "from lut import *"
   ]
  },
  {
   "cell_type": "markdown",
   "id": "d890273e",
   "metadata": {},
   "source": [
    "# Loading the dataset and pre-processing"
   ]
  },
  {
   "cell_type": "code",
   "execution_count": 4,
   "id": "80d34c1d",
   "metadata": {},
   "outputs": [],
   "source": [
    "from mnist import load_mnist\n",
    "\n",
    "X_train, X_test, y_train, y_test = load_mnist()"
   ]
  },
  {
   "cell_type": "markdown",
   "id": "073a65a3",
   "metadata": {},
   "source": [
    "# Experiment 1\n",
    "\n",
    "**Setup:**\n",
    "- Network with 5 hidden layers of 1024 luts and 1 lut in the output layer\n",
    "- Each lut takes 8 inputs\n",
    "\n",
    "**Result:**\n",
    "- Training accuracy: 0.89\n",
    "- Accuracy on test set: 0.87\n",
    "- Results significantly above 0.5 which would be random"
   ]
  },
  {
   "cell_type": "code",
   "execution_count": 5,
   "id": "01de3052",
   "metadata": {},
   "outputs": [
    {
     "name": "stderr",
     "output_type": "stream",
     "text": [
      "100%|█████████████████████████████████████████████████████████████████████████████████████████████████████████████████████████████████████| 5/5 [07:44<00:00, 92.91s/it]\n"
     ]
    },
    {
     "name": "stdout",
     "output_type": "stream",
     "text": [
      "Accuracy on training set: 0.89\n",
      "Accuracy on test set: 0.87\n",
      "CPU times: user 26.7 s, sys: 31.5 s, total: 58.2 s\n",
      "Wall time: 9min 30s\n"
     ]
    }
   ],
   "source": [
    "%%time\n",
    "hidden_layers = [1024] * 5\n",
    "lut = Lut(bits=[8] * (len(hidden_layers) + 1), hidden_layers=hidden_layers, verbose=True)\n",
    "\n",
    "preds_train = lut.train(X_train, y_train)\n",
    "preds_test = lut.predict(X_test)\n",
    "print(f\"Accuracy on training set: {accuracy_score(preds_train, y_train):.2f}\")\n",
    "print(f\"Accuracy on test set: {accuracy_score(preds_test, y_test):.2f}\")"
   ]
  },
  {
   "cell_type": "code",
   "execution_count": 7,
   "id": "aa6b0b6d",
   "metadata": {},
   "outputs": [],
   "source": [
    "# import pickle\n",
    "\n",
    "# with open(r\"data/lut/lut_experiment_1.pkl\", \"wb\") as f:\n",
    "#     pickle.dump(lut, f)"
   ]
  },
  {
   "cell_type": "code",
   "execution_count": 11,
   "id": "e420e491",
   "metadata": {},
   "outputs": [
    {
     "name": "stderr",
     "output_type": "stream",
     "text": [
      "100%|█████████████████████████████████████████████████████████████████████████████████████████████████████████████████████████████████████| 5/5 [07:34<00:00, 90.88s/it]\n"
     ]
    }
   ],
   "source": [
    "acc = lut.get_accuracies_per_layer(X_train, y_train)"
   ]
  },
  {
   "cell_type": "code",
   "execution_count": 13,
   "id": "9e94ce3a",
   "metadata": {},
   "outputs": [],
   "source": [
    "# with open(r\"data/lut/acc_experiment_1.pkl\", \"wb\") as f:\n",
    "#     pickle.dump(acc, f)"
   ]
  },
  {
   "cell_type": "code",
   "execution_count": 47,
   "id": "138e2504",
   "metadata": {},
   "outputs": [],
   "source": [
    "with open(r\"data/lut/acc_experiment_1.pkl\", \"rb\") as f:\n",
    "    acc = pickle.load(f)"
   ]
  },
  {
   "cell_type": "code",
   "execution_count": null,
   "id": "9354cdc2",
   "metadata": {},
   "outputs": [],
   "source": [
    "acc_ = np.vstack((np.array(acc[:-1]), np.repeat(acc[-1], repeats=1024)[None, :]))\n",
    "acc_mean = acc_.mean(1)\n",
    "acc_std = acc_.std(1)"
   ]
  },
  {
   "cell_type": "code",
   "execution_count": 52,
   "id": "42aa9919",
   "metadata": {},
   "outputs": [
    {
     "data": {
      "image/png": "[encoded data removed]",
      "text/plain": [
       "<Figure size 432x288 with 1 Axes>"
      ]
     },
     "metadata": {
      "needs_background": "light"
     },
     "output_type": "display_data"
    }
   ],
   "source": [
    "fig, ax = plt.subplots(1, 1)\n",
    "\n",
    "ax.errorbar(range(1, 7), acc_mean, yerr=acc_std, capsize=4, fmt=\"o\")\n",
    "ax.set_xlabel(\"Hidden layer\")\n",
    "ax.set_ylabel(\"Training accuracy\")\n",
    "ax.grid();"
   ]
  },
  {
   "cell_type": "code",
   "execution_count": 54,
   "id": "f884a0f4",
   "metadata": {},
   "outputs": [
    {
     "name": "stdout",
     "output_type": "stream",
     "text": [
      "1  0.001   0.6025  0.0399\n",
      "2  0.001   0.7403  0.0186\n",
      "3  0.001   0.8278  0.0069\n",
      "4  0.001   0.8636  0.0035\n",
      "5  0.001   0.8789  0.0016\n",
      "6  0.001   0.8900  0.0000\n"
     ]
    }
   ],
   "source": [
    "# For latex tikz plot\n",
    "for i in range(6):\n",
    "    print(f\"{i + 1}  0.001   {acc_mean[i]:.4f}  {acc_std[i]:.4f}\")"
   ]
  },
  {
   "cell_type": "markdown",
   "id": "1ffe3b05",
   "metadata": {},
   "source": [
    "# Majority Vote"
   ]
  },
  {
   "cell_type": "code",
   "execution_count": 5,
   "id": "52e05d7f",
   "metadata": {},
   "outputs": [],
   "source": [
    "bit_arr = list(range(2, 11))"
   ]
  },
  {
   "cell_type": "code",
   "execution_count": 6,
   "id": "ae073391",
   "metadata": {},
   "outputs": [
    {
     "name": "stderr",
     "output_type": "stream",
     "text": [
      "100%|█████████████████████████████████████████████| 5/5 [00:13<00:00,  2.63s/it]\n"
     ]
    },
    {
     "name": "stdout",
     "output_type": "stream",
     "text": [
      "Bits: 2 Accuracy on training set: 0.64\n",
      "Bits: 2 Accuracy on test set: 0.65\n"
     ]
    },
    {
     "name": "stderr",
     "output_type": "stream",
     "text": [
      "100%|█████████████████████████████████████████████| 5/5 [00:17<00:00,  3.52s/it]\n"
     ]
    },
    {
     "name": "stdout",
     "output_type": "stream",
     "text": [
      "Bits: 3 Accuracy on training set: 0.76\n",
      "Bits: 3 Accuracy on test set: 0.76\n"
     ]
    },
    {
     "name": "stderr",
     "output_type": "stream",
     "text": [
      "100%|█████████████████████████████████████████████| 5/5 [00:28<00:00,  5.76s/it]\n"
     ]
    },
    {
     "name": "stdout",
     "output_type": "stream",
     "text": [
      "Bits: 4 Accuracy on training set: 0.80\n",
      "Bits: 4 Accuracy on test set: 0.80\n"
     ]
    },
    {
     "name": "stderr",
     "output_type": "stream",
     "text": [
      "100%|█████████████████████████████████████████████| 5/5 [00:51<00:00, 10.32s/it]\n"
     ]
    },
    {
     "name": "stdout",
     "output_type": "stream",
     "text": [
      "Bits: 5 Accuracy on training set: 0.83\n",
      "Bits: 5 Accuracy on test set: 0.83\n"
     ]
    },
    {
     "name": "stderr",
     "output_type": "stream",
     "text": [
      "100%|█████████████████████████████████████████████| 5/5 [01:40<00:00, 20.17s/it]\n"
     ]
    },
    {
     "name": "stdout",
     "output_type": "stream",
     "text": [
      "Bits: 6 Accuracy on training set: 0.85\n",
      "Bits: 6 Accuracy on test set: 0.84\n"
     ]
    },
    {
     "name": "stderr",
     "output_type": "stream",
     "text": [
      "100%|█████████████████████████████████████████████| 5/5 [03:39<00:00, 43.95s/it]\n"
     ]
    },
    {
     "name": "stdout",
     "output_type": "stream",
     "text": [
      "Bits: 7 Accuracy on training set: 0.87\n",
      "Bits: 7 Accuracy on test set: 0.86\n"
     ]
    },
    {
     "name": "stderr",
     "output_type": "stream",
     "text": [
      "100%|█████████████████████████████████████████████| 5/5 [07:45<00:00, 93.16s/it]\n"
     ]
    },
    {
     "name": "stdout",
     "output_type": "stream",
     "text": [
      "Bits: 8 Accuracy on training set: 0.89\n",
      "Bits: 8 Accuracy on test set: 0.87\n"
     ]
    },
    {
     "name": "stderr",
     "output_type": "stream",
     "text": [
      "100%|████████████████████████████████████████████| 5/5 [16:22<00:00, 196.58s/it]\n"
     ]
    },
    {
     "name": "stdout",
     "output_type": "stream",
     "text": [
      "Bits: 9 Accuracy on training set: 0.91\n",
      "Bits: 9 Accuracy on test set: 0.88\n"
     ]
    },
    {
     "name": "stderr",
     "output_type": "stream",
     "text": [
      "100%|████████████████████████████████████████████| 5/5 [34:02<00:00, 408.54s/it]\n"
     ]
    },
    {
     "name": "stdout",
     "output_type": "stream",
     "text": [
      "Bits: 10 Accuracy on training set: 0.94\n",
      "Bits: 10 Accuracy on test set: 0.88\n",
      "CPU times: user 3min 42s, sys: 4min 53s, total: 8min 35s\n",
      "Wall time: 1h 20min 3s\n"
     ]
    }
   ],
   "source": [
    "%%time\n",
    "\n",
    "train_no_major = []\n",
    "test_no_major = []\n",
    "\n",
    "for bit in bit_arr:\n",
    "    hidden_layers = [1024] * 5\n",
    "    lut = Lut(bits=[bit] * (len(hidden_layers) + 1), hidden_layers=hidden_layers, verbose=True)\n",
    "    preds_train = lut.train(X_train, y_train)\n",
    "    preds_test = lut.predict(X_test)\n",
    "\n",
    "    train_acc = accuracy_score(preds_train, y_train)\n",
    "    test_acc = accuracy_score(preds_test, y_test)\n",
    "    train_no_major.append(train_acc)\n",
    "    test_no_major.append(test_acc)\n",
    "    print(f\"Bits: {bit} Accuracy on training set: {train_acc:.2f}\")\n",
    "    print(f\"Bits: {bit} Accuracy on test set: {test_acc:.2f}\")"
   ]
  },
  {
   "cell_type": "code",
   "execution_count": 7,
   "id": "ca4ff255",
   "metadata": {},
   "outputs": [
    {
     "data": {
      "text/plain": [
       "([0.642625,\n",
       "  0.7604464285714285,\n",
       "  0.800125,\n",
       "  0.8309285714285715,\n",
       "  0.8476071428571429,\n",
       "  0.87025,\n",
       "  0.8883928571428571,\n",
       "  0.9139642857142857,\n",
       "  0.9412678571428571],\n",
       " [0.6516428571428572,\n",
       "  0.7632142857142857,\n",
       "  0.8013571428571429,\n",
       "  0.8318571428571429,\n",
       "  0.8442857142857143,\n",
       "  0.8598571428571429,\n",
       "  0.8702142857142857,\n",
       "  0.8787142857142857,\n",
       "  0.8841428571428571])"
      ]
     },
     "execution_count": 7,
     "metadata": {},
     "output_type": "execute_result"
    }
   ],
   "source": [
    "train_no_major, test_no_major"
   ]
  },
  {
   "cell_type": "code",
   "execution_count": 10,
   "id": "a962c32f",
   "metadata": {},
   "outputs": [
    {
     "name": "stderr",
     "output_type": "stream",
     "text": [
      "100%|█████████████████████████████████████████████| 5/5 [00:11<00:00,  2.30s/it]\n"
     ]
    },
    {
     "name": "stdout",
     "output_type": "stream",
     "text": [
      "Bits: 2 Accuracy on training set: 0.77\n",
      "Bits: 2 Accuracy on test set: 0.77\n"
     ]
    },
    {
     "name": "stderr",
     "output_type": "stream",
     "text": [
      "100%|█████████████████████████████████████████████| 5/5 [00:17<00:00,  3.47s/it]\n"
     ]
    },
    {
     "name": "stdout",
     "output_type": "stream",
     "text": [
      "Bits: 3 Accuracy on training set: 0.79\n",
      "Bits: 3 Accuracy on test set: 0.79\n"
     ]
    },
    {
     "name": "stderr",
     "output_type": "stream",
     "text": [
      "100%|█████████████████████████████████████████████| 5/5 [00:28<00:00,  5.67s/it]\n"
     ]
    },
    {
     "name": "stdout",
     "output_type": "stream",
     "text": [
      "Bits: 4 Accuracy on training set: 0.82\n",
      "Bits: 4 Accuracy on test set: 0.82\n"
     ]
    },
    {
     "name": "stderr",
     "output_type": "stream",
     "text": [
      "100%|█████████████████████████████████████████████| 5/5 [00:49<00:00,  9.98s/it]\n"
     ]
    },
    {
     "name": "stdout",
     "output_type": "stream",
     "text": [
      "Bits: 5 Accuracy on training set: 0.83\n",
      "Bits: 5 Accuracy on test set: 0.83\n"
     ]
    },
    {
     "name": "stderr",
     "output_type": "stream",
     "text": [
      "100%|█████████████████████████████████████████████| 5/5 [01:43<00:00, 20.66s/it]\n"
     ]
    },
    {
     "name": "stdout",
     "output_type": "stream",
     "text": [
      "Bits: 6 Accuracy on training set: 0.85\n",
      "Bits: 6 Accuracy on test set: 0.85\n"
     ]
    },
    {
     "name": "stderr",
     "output_type": "stream",
     "text": [
      "100%|█████████████████████████████████████████████| 5/5 [03:38<00:00, 43.70s/it]\n"
     ]
    },
    {
     "name": "stdout",
     "output_type": "stream",
     "text": [
      "Bits: 7 Accuracy on training set: 0.87\n",
      "Bits: 7 Accuracy on test set: 0.86\n"
     ]
    },
    {
     "name": "stderr",
     "output_type": "stream",
     "text": [
      "100%|█████████████████████████████████████████████| 5/5 [07:22<00:00, 88.45s/it]\n"
     ]
    },
    {
     "name": "stdout",
     "output_type": "stream",
     "text": [
      "Bits: 8 Accuracy on training set: 0.89\n",
      "Bits: 8 Accuracy on test set: 0.88\n"
     ]
    },
    {
     "name": "stderr",
     "output_type": "stream",
     "text": [
      "100%|████████████████████████████████████████████| 5/5 [15:37<00:00, 187.59s/it]\n"
     ]
    },
    {
     "name": "stdout",
     "output_type": "stream",
     "text": [
      "Bits: 9 Accuracy on training set: 0.91\n",
      "Bits: 9 Accuracy on test set: 0.88\n"
     ]
    },
    {
     "name": "stderr",
     "output_type": "stream",
     "text": [
      "100%|████████████████████████████████████████████| 5/5 [34:23<00:00, 412.74s/it]\n"
     ]
    },
    {
     "name": "stdout",
     "output_type": "stream",
     "text": [
      "Bits: 10 Accuracy on training set: 0.94\n",
      "Bits: 10 Accuracy on test set: 0.90\n",
      "CPU times: user 6min 29s, sys: 9min 5s, total: 15min 35s\n",
      "Wall time: 2h 23min 35s\n"
     ]
    }
   ],
   "source": [
    "%%time\n",
    "# Foolishly wasting time by doing this loop again\n",
    "# I forgot that for a majority vote, you do not need to retrain the network!\n",
    "\n",
    "train_major = []\n",
    "test_major = []\n",
    "\n",
    "for bit in bit_arr:\n",
    "    hidden_layers = [1024] * 5\n",
    "    lut = Lut(bits=[bit] * (len(hidden_layers) + 1), hidden_layers=hidden_layers, verbose=True)\n",
    "    _ = lut.train(X_train, y_train)\n",
    "    preds_train = lut.predict(X_train, majority_vote=True)\n",
    "    preds_test = lut.predict(X_test, majority_vote=True)\n",
    "\n",
    "    train_acc = accuracy_score(preds_train, y_train)\n",
    "    test_acc = accuracy_score(preds_test, y_test)\n",
    "    train_major.append(train_acc)\n",
    "    test_major.append(test_acc)\n",
    "    print(f\"Bits: {bit} Accuracy on training set: {train_acc:.2f}\")\n",
    "    print(f\"Bits: {bit} Accuracy on test set: {test_acc:.2f}\")"
   ]
  },
  {
   "cell_type": "code",
   "execution_count": 6,
   "id": "259e43f6",
   "metadata": {},
   "outputs": [],
   "source": [
    "bit_arr = list(range(2, 11))\n",
    "\n",
    "train_no_major = [0.64, 0.76, 0.80, 0.83, 0.85, 0.87, 0.89, 0.91, 0.94]\n",
    "test_no_major = [0.65, 0.76, 0.80, 0.83, 0.84, 0.86, 0.87, 0.88, 0.88]\n",
    "\n",
    "train_major = [0.77, 0.79, 0.82, 0.83, 0.85, 0.87, 0.89, 0.91, 0.94]\n",
    "test_major = [0.77, 0.79, 0.82, 0.83, 0.85, 0.86, 0.88, 0.88, 0.90]"
   ]
  },
  {
   "cell_type": "code",
   "execution_count": 10,
   "id": "82ddb721",
   "metadata": {},
   "outputs": [
    {
     "data": {
      "text/plain": [
       "'(2,0.77)(3,0.79)(4,0.82)(5,0.83)(6,0.85)(7,0.86)(8,0.88)(9,0.88)(10,0.9)'"
      ]
     },
     "execution_count": 10,
     "metadata": {},
     "output_type": "execute_result"
    }
   ],
   "source": [
    "s = \"\"\n",
    "for i in range(len(bit_arr)):\n",
    "    s += f\"({bit_arr[i]},{test_major[i]})\"\n",
    "    \n",
    "s"
   ]
  },
  {
   "cell_type": "markdown",
   "id": "f6adea70",
   "metadata": {},
   "source": [
    "# Improve mean layer accuracy"
   ]
  },
  {
   "cell_type": "code",
   "execution_count": 35,
   "id": "d19e9272",
   "metadata": {},
   "outputs": [],
   "source": [
    "# max of n_samples is 70_000\n",
    "X_train, X_test, y_train, y_test = load_mnist(n_samples=70_000)"
   ]
  },
  {
   "cell_type": "code",
   "execution_count": 8,
   "id": "34c6e807",
   "metadata": {},
   "outputs": [
    {
     "name": "stdout",
     "output_type": "stream",
     "text": [
      "10 bits improve layer acc\n"
     ]
    },
    {
     "name": "stderr",
     "output_type": "stream",
     "text": [
      "Layer 4 Acc 0.9456: 100%|██████████████████| 5/5 [106:34:20<00:00, 76732.05s/it]\n"
     ]
    },
    {
     "name": "stdout",
     "output_type": "stream",
     "text": [
      "Accuracy on training set: 0.95\n",
      "Accuracy on test set: 0.90\n",
      "Accuracy on training set with majority vote: 0.95\n",
      "Accuracy on test set with majority vote: 0.91\n"
     ]
    },
    {
     "name": "stderr",
     "output_type": "stream",
     "text": [
      "100%|████████████████████████████████████████████| 5/5 [32:44<00:00, 392.80s/it]\n"
     ]
    },
    {
     "name": "stdout",
     "output_type": "stream",
     "text": [
      "CPU times: user 6h 13min 4s, sys: 10h 38s, total: 16h 13min 42s\n",
      "Wall time: 4d 11h 55min 30s\n"
     ]
    }
   ],
   "source": [
    "%%time\n",
    "for bt_len in [10]:\n",
    "    hidden_layers = [1024] * 5\n",
    "    bits = [bt_len] * (len(hidden_layers) + 1)\n",
    "\n",
    "    params = {\n",
    "        \"bits\": bits,\n",
    "        \"hidden_layers\": hidden_layers,\n",
    "        \"improve_layer_acc\": False,\n",
    "        \"verbose\": True,\n",
    "    }\n",
    "\n",
    "    params_improve = {\n",
    "        \"bits\": bits,\n",
    "        \"hidden_layers\": hidden_layers,\n",
    "        \"improve_layer_acc\": True,\n",
    "        \"discard_num\": 50,\n",
    "        \"patience\": 5,\n",
    "        \"verbose\": True,\n",
    "    }\n",
    "\n",
    "    for p in [params_improve]:\n",
    "        mode = \"normal\" if not p[\"improve_layer_acc\"] else \"improve layer acc\"\n",
    "        print(f\"{p['bits'][0]} bits {mode}\")\n",
    "        lut = Lut(**p)\n",
    "        preds_train = lut.train(X_train, y_train)\n",
    "        acc_train = accuracy_score(preds_train, y_train)\n",
    "        preds_test = lut.predict(X_test)\n",
    "        acc_test = accuracy_score(preds_test, y_test)\n",
    "\n",
    "        print(f\"Accuracy on training set: {acc_train:.2f}\")\n",
    "        print(f\"Accuracy on test set: {acc_test:.2f}\")\n",
    "\n",
    "        preds_train_major = lut.predict(X_train, majority_vote=True)\n",
    "        acc_train_major = accuracy_score(preds_train_major, y_train)\n",
    "        preds_test_major = lut.predict(X_test, majority_vote=True)\n",
    "        acc_test_major = accuracy_score(preds_test_major, y_test)\n",
    "\n",
    "        print(f\"Accuracy on training set with majority vote: {acc_train_major:.2f}\")\n",
    "        print(f\"Accuracy on test set with majority vote: {acc_test_major:.2f}\")\n",
    "\n",
    "        preds_train_, acc_layer = lut.get_accuracies_per_layer(X_train, y_train)\n",
    "\n",
    "        with open(\n",
    "            f\"data/lut/improve_layer_acc/{p['bits'][0]:02}_{mode}_lut.pkl\", \"wb\"\n",
    "        ) as f:\n",
    "            pickle.dump(\n",
    "                {\n",
    "                    \"acc_layer\": acc_layer,\n",
    "                    \"acc_train\": acc_train,\n",
    "                    \"acc_test\": acc_test,\n",
    "                    \"acc_train_major\": acc_train_major,\n",
    "                    \"acc_test_major\": acc_test_major,\n",
    "                    \"params\": p,\n",
    "                },\n",
    "                f,\n",
    "            )\n",
    "\n",
    "#         np.savez(\n",
    "#             f\"data/lut/improve_layer_acc/{p['bits'][0]:02}_{mode}_lut\",\n",
    "#             cols_arr_=np.array(lut.cols_arr_, dtype=\"object\"),\n",
    "#             lut_arr_=np.array(lut.lut_arr_, dtype=\"object\"),\n",
    "#             rnd_arr_=np.array(lut.rnd_arr_, dtype=\"object\"),\n",
    "#         )\n",
    "\n",
    "        with open(\n",
    "            f\"data/lut/improve_layer_acc/{p['bits'][0]:02}_{mode}_lut_npz_replace.pkl\",\n",
    "            \"wb\",\n",
    "        ) as f:\n",
    "            pickle.dump(\n",
    "                {\n",
    "                    \"cols_arr_\": lut.cols_arr_,\n",
    "                    \"lut_arr_\": lut.lut_arr_,\n",
    "                    \"rnd_arr_\": lut.rnd_arr_,\n",
    "                },\n",
    "                f,\n",
    "            )"
   ]
  },
  {
   "cell_type": "code",
   "execution_count": 11,
   "id": "773b72eb",
   "metadata": {},
   "outputs": [],
   "source": [
    "with open(\n",
    "    f\"data/lut/improve_layer_acc/08_improve layer acc_lut.pkl\", \"rb\"\n",
    ") as f:\n",
    "    result = pickle.load(f)"
   ]
  },
  {
   "cell_type": "code",
   "execution_count": 12,
   "id": "158c536d",
   "metadata": {},
   "outputs": [],
   "source": [
    "acc_layer = result[\"acc_layer\"]"
   ]
  },
  {
   "cell_type": "code",
   "execution_count": 17,
   "id": "00b18827",
   "metadata": {},
   "outputs": [
    {
     "data": {
      "text/plain": [
       "0.8842857142857142"
      ]
     },
     "execution_count": 17,
     "metadata": {},
     "output_type": "execute_result"
    }
   ],
   "source": [
    "result[\"acc_test\"]"
   ]
  },
  {
   "cell_type": "code",
   "execution_count": 13,
   "id": "93a39152",
   "metadata": {},
   "outputs": [],
   "source": [
    "out = r\"\"\"\n",
    "\\addplot+[\n",
    "    hist={data=x,bins=10},\n",
    "    draw=blue,\n",
    "    semithick,\n",
    "    pattern=north east lines,\n",
    "    pattern color=blue\n",
    "]\n",
    "table [y expr=1] {\n",
    "\"\"\"\n",
    "\n",
    "for x in acc_layer[0]:\n",
    "    out += f\"{x:.4f}\\n\"\n",
    "    \n",
    "out += r\"\"\"};\n",
    "        \\addlegendentry{Hidden layer 1}\n",
    "\\addplot+[\n",
    "    hist={data=x,bins=10},\n",
    "    draw=red,\n",
    "    semithick,\n",
    "    pattern=north west lines,\n",
    "    pattern color=red\n",
    "    ]\n",
    "            table [y expr=1] {\n",
    "\"\"\"\n",
    "\n",
    "for x in acc_layer[1]:\n",
    "    out += f\"{x:.4f}\\n\"\n",
    "    \n",
    "out += r\"\"\"};\n",
    "        \\addlegendentry{Hidden layer 2}\n",
    "\n",
    "\\addplot+[\n",
    "    hist={data=x,bins=10},\n",
    "    opacity=0.5,\n",
    "    draw=brown,\n",
    "    semithick,\n",
    "    pattern=dots,\n",
    "    pattern color=brown\n",
    "    ]\n",
    "            table [y expr=1] {\n",
    "\"\"\"\n",
    "\n",
    "for x in acc_layer[2]:\n",
    "    out += f\"{x:.4f}\\n\"\n",
    "    \n",
    "out += r\"\"\"};\n",
    "        \\addlegendentry{Hidden layer 3}\n",
    "\n",
    "\\addplot+[\n",
    "    hist={data=x,bins=10},\n",
    "    opacity=0.5,\n",
    "    draw=gray,\n",
    "    semithick,\n",
    "    pattern=grid,\n",
    "    pattern color=gray\n",
    "    ]\n",
    "            table [y expr=1] {\n",
    "\"\"\"\n",
    "\n",
    "for x in acc_layer[3]:\n",
    "    out += f\"{x:.4f}\\n\"\n",
    "    \n",
    "out += r\"\"\"};\n",
    "        \\addlegendentry{Hidden layer 4}\n",
    "\n",
    "\\addplot+[hist={data=x,bins=10}, opacity=0.5]\n",
    "            table [y expr=1] {\n",
    "\"\"\"\n",
    "\n",
    "for x in acc_layer[4]:\n",
    "    out += f\"{x:.4f}\\n\"\n",
    "    \n",
    "out += r\"\"\"};\n",
    "        \\addlegendentry{Hidden layer 5}\n",
    "\"\"\""
   ]
  },
  {
   "cell_type": "markdown",
   "id": "93a4f1df",
   "metadata": {},
   "source": [
    "# Feature engineering"
   ]
  },
  {
   "cell_type": "code",
   "execution_count": 19,
   "id": "7945157b",
   "metadata": {},
   "outputs": [],
   "source": [
    "X_train_sobelx = np.diff(X_train, axis=1)\n",
    "X_train_sobelx = np.hstack((X_train_sobelx, np.zeros((X_train.shape[0],1), dtype=bool)))\n",
    "\n",
    "X_train_sobely = np.zeros_like(X_train)\n",
    "for i in range(X_train.shape[0]):\n",
    "    X_train_sobely[i] = (\n",
    "        np.vstack((np.diff(X_train[i].reshape((28,28)), axis=0), np.zeros((1,28), dtype=bool)))\n",
    "        .flatten()\n",
    "    )\n",
    "\n",
    "# X_train_sobel = X_train + X_train_sobelx + X_train_sobely"
   ]
  },
  {
   "cell_type": "code",
   "execution_count": 56,
   "id": "e4958635",
   "metadata": {},
   "outputs": [
    {
     "data": {
      "image/png": "[encoded data removed]",
      "text/plain": [
       "<Figure size 432x1440 with 30 Axes>"
      ]
     },
     "metadata": {
      "needs_background": "light"
     },
     "output_type": "display_data"
    }
   ],
   "source": [
    "rows = 10\n",
    "idxs = np.random.choice(range(X_train.shape[0]), rows)\n",
    "\n",
    "fig, axs = plt.subplots(rows, 3, figsize=(6, 20))\n",
    "\n",
    "for i, ax_row in enumerate(axs):\n",
    "    ax_row[0].imshow(X_train_sobelx[idxs[i]].reshape((28,28)))\n",
    "    ax_row[1].imshow(X_train_sobely[idxs[i]].reshape((28,28)))\n",
    "    ax_row[2].imshow(X_train_sobel[idxs[i]].reshape((28,28)))\n",
    "    \n",
    "plt.tight_layout();"
   ]
  },
  {
   "cell_type": "code",
   "execution_count": 19,
   "id": "dd16da29",
   "metadata": {},
   "outputs": [],
   "source": [
    "def get_sobel_dataset(dataset):\n",
    "    dataset_sobelx = np.diff(dataset, axis=1)\n",
    "    dataset_sobelx = np.hstack((dataset_sobelx, np.zeros((dataset.shape[0],1), dtype=bool)))\n",
    "\n",
    "    dataset_sobely = np.zeros_like(dataset)\n",
    "    for i in range(dataset.shape[0]):\n",
    "        dataset_sobely[i] = (\n",
    "            np.vstack((np.diff(dataset[i].reshape((28,28)), axis=0), np.zeros((1,28), dtype=bool)))\n",
    "            .flatten()\n",
    "        )\n",
    "\n",
    "    dataset_sobel = dataset + dataset_sobelx + dataset_sobely\n",
    "    return dataset_sobel\n",
    "\n",
    "gsd = get_sobel_dataset"
   ]
  },
  {
   "cell_type": "code",
   "execution_count": 58,
   "id": "9c2e2e6b",
   "metadata": {},
   "outputs": [],
   "source": [
    "X_train_sobel = get_sobel_dataset(X_train)\n",
    "X_test_sobel = get_sobel_dataset(X_test)"
   ]
  },
  {
   "cell_type": "code",
   "execution_count": 59,
   "id": "52326741",
   "metadata": {},
   "outputs": [
    {
     "name": "stderr",
     "output_type": "stream",
     "text": [
      "100%|█████████████████████████████████████████████| 5/5 [07:42<00:00, 92.59s/it]\n"
     ]
    },
    {
     "name": "stdout",
     "output_type": "stream",
     "text": [
      "Accuracy on training set: 0.91\n",
      "Accuracy on test set: 0.90\n",
      "CPU times: user 25.6 s, sys: 34.6 s, total: 1min\n",
      "Wall time: 8min 51s\n"
     ]
    }
   ],
   "source": [
    "%%time\n",
    "hidden_layers = [1024] * 5\n",
    "lut = Lut(bits=[8] * (len(hidden_layers) + 1), hidden_layers=hidden_layers, verbose=True)\n",
    "\n",
    "preds_train = lut.train(X_train_sobel, y_train)\n",
    "print(f\"Accuracy on training set: {accuracy_score(preds_train, y_train):.2f}\")\n",
    "preds_test = lut.predict(X_test_sobel)\n",
    "print(f\"Accuracy on test set: {accuracy_score(preds_test, y_test):.2f}\")"
   ]
  },
  {
   "cell_type": "code",
   "execution_count": 60,
   "id": "8c9ae576",
   "metadata": {},
   "outputs": [
    {
     "name": "stderr",
     "output_type": "stream",
     "text": [
      "100%|█████████████████████████████████████████████| 5/5 [07:27<00:00, 89.55s/it]\n"
     ]
    },
    {
     "name": "stdout",
     "output_type": "stream",
     "text": [
      "Accuracy on training set: 0.92\n",
      "Accuracy on test set: 0.91\n",
      "CPU times: user 26 s, sys: 33.1 s, total: 59.1 s\n",
      "Wall time: 8min 38s\n"
     ]
    }
   ],
   "source": [
    "%%time\n",
    "X_train_ss = get_sobel_dataset(X_train_sobel)\n",
    "X_test_ss = get_sobel_dataset(X_test_sobel)\n",
    "\n",
    "hidden_layers = [1024] * 5\n",
    "lut = Lut(bits=[8] * (len(hidden_layers) + 1), hidden_layers=hidden_layers, verbose=True)\n",
    "\n",
    "preds_train = lut.train(X_train_ss, y_train)\n",
    "print(f\"Accuracy on training set: {accuracy_score(preds_train, y_train):.2f}\")\n",
    "preds_test = lut.predict(X_test_ss)\n",
    "print(f\"Accuracy on test set: {accuracy_score(preds_test, y_test):.2f}\")"
   ]
  },
  {
   "cell_type": "code",
   "execution_count": 62,
   "id": "19fa9b25",
   "metadata": {},
   "outputs": [
    {
     "name": "stderr",
     "output_type": "stream",
     "text": [
      "100%|█████████████████████████████████████████████| 5/5 [07:32<00:00, 90.44s/it]\n"
     ]
    },
    {
     "name": "stdout",
     "output_type": "stream",
     "text": [
      "Accuracy on training set: 0.91\n",
      "Accuracy on test set: 0.89\n",
      "CPU times: user 27.7 s, sys: 33.1 s, total: 1min\n",
      "Wall time: 8min 42s\n"
     ]
    }
   ],
   "source": [
    "%%time\n",
    "X_train_ss = gsd(gsd(gsd(gsd(gsd(X_train)))))\n",
    "X_test_ss = gsd(gsd(gsd(gsd(gsd(X_test)))))\n",
    "\n",
    "hidden_layers = [1024] * 5\n",
    "lut = Lut(bits=[8] * (len(hidden_layers) + 1), hidden_layers=hidden_layers, verbose=True)\n",
    "\n",
    "preds_train = lut.train(X_train_ss, y_train)\n",
    "print(f\"Accuracy on training set: {accuracy_score(preds_train, y_train):.2f}\")\n",
    "preds_test = lut.predict(X_test_ss)\n",
    "print(f\"Accuracy on test set: {accuracy_score(preds_test, y_test):.2f}\")"
   ]
  },
  {
   "cell_type": "code",
   "execution_count": 15,
   "id": "f91297c1",
   "metadata": {},
   "outputs": [],
   "source": [
    "X_train_ss = gsd(X_train)\n",
    "X_test_ss = gsd(X_test)"
   ]
  },
  {
   "cell_type": "code",
   "execution_count": 16,
   "id": "aa908054",
   "metadata": {},
   "outputs": [
    {
     "name": "stderr",
     "output_type": "stream",
     "text": [
      "100%|█████████████████████████████████████████████████████████████████████████████████████████████████████████████████████████████████████| 5/5 [00:13<00:00,  2.63s/it]\n"
     ]
    },
    {
     "name": "stdout",
     "output_type": "stream",
     "text": [
      "2 train: 0.68\n",
      "2 test: 0.69\n"
     ]
    },
    {
     "name": "stderr",
     "output_type": "stream",
     "text": [
      "100%|█████████████████████████████████████████████████████████████████████████████████████████████████████████████████████████████████████| 5/5 [00:19<00:00,  3.85s/it]\n"
     ]
    },
    {
     "name": "stdout",
     "output_type": "stream",
     "text": [
      "3 train: 0.79\n",
      "3 test: 0.79\n"
     ]
    },
    {
     "name": "stderr",
     "output_type": "stream",
     "text": [
      "100%|█████████████████████████████████████████████████████████████████████████████████████████████████████████████████████████████████████| 5/5 [00:30<00:00,  6.03s/it]\n"
     ]
    },
    {
     "name": "stdout",
     "output_type": "stream",
     "text": [
      "4 train: 0.83\n",
      "4 test: 0.84\n"
     ]
    },
    {
     "name": "stderr",
     "output_type": "stream",
     "text": [
      "100%|█████████████████████████████████████████████████████████████████████████████████████████████████████████████████████████████████████| 5/5 [00:53<00:00, 10.69s/it]\n"
     ]
    },
    {
     "name": "stdout",
     "output_type": "stream",
     "text": [
      "5 train: 0.85\n",
      "5 test: 0.85\n"
     ]
    },
    {
     "name": "stderr",
     "output_type": "stream",
     "text": [
      "100%|█████████████████████████████████████████████████████████████████████████████████████████████████████████████████████████████████████| 5/5 [01:38<00:00, 19.78s/it]\n"
     ]
    },
    {
     "name": "stdout",
     "output_type": "stream",
     "text": [
      "6 train: 0.88\n",
      "6 test: 0.88\n"
     ]
    },
    {
     "name": "stderr",
     "output_type": "stream",
     "text": [
      "100%|█████████████████████████████████████████████████████████████████████████████████████████████████████████████████████████████████████| 5/5 [03:17<00:00, 39.49s/it]\n"
     ]
    },
    {
     "name": "stdout",
     "output_type": "stream",
     "text": [
      "7 train: 0.89\n",
      "7 test: 0.89\n"
     ]
    },
    {
     "name": "stderr",
     "output_type": "stream",
     "text": [
      "100%|█████████████████████████████████████████████████████████████████████████████████████████████████████████████████████████████████████| 5/5 [07:14<00:00, 86.82s/it]\n"
     ]
    },
    {
     "name": "stdout",
     "output_type": "stream",
     "text": [
      "8 train: 0.91\n",
      "8 test: 0.89\n"
     ]
    },
    {
     "name": "stderr",
     "output_type": "stream",
     "text": [
      "100%|████████████████████████████████████████████████████████████████████████████████████████████████████████████████████████████████████| 5/5 [16:04<00:00, 192.90s/it]\n"
     ]
    },
    {
     "name": "stdout",
     "output_type": "stream",
     "text": [
      "9 train: 0.93\n",
      "9 test: 0.91\n"
     ]
    },
    {
     "name": "stderr",
     "output_type": "stream",
     "text": [
      "100%|████████████████████████████████████████████████████████████████████████████████████████████████████████████████████████████████████| 5/5 [35:07<00:00, 421.56s/it]\n"
     ]
    },
    {
     "name": "stdout",
     "output_type": "stream",
     "text": [
      "10 train: 0.96\n",
      "10 test: 0.91\n",
      "CPU times: user 3min 34s, sys: 4min 58s, total: 8min 33s\n",
      "Wall time: 1h 15min 5s\n"
     ]
    }
   ],
   "source": [
    "%%time\n",
    "train_accs = []\n",
    "test_accs = []\n",
    "for bt in range(2, 11, 1):\n",
    "    hidden_layers = [1024] * 5\n",
    "    lut = Lut(bits=[bt] * (len(hidden_layers) + 1), hidden_layers=hidden_layers, verbose=True)\n",
    "    preds_train = lut.train(X_train_ss, y_train)\n",
    "    preds_test = lut.predict(X_test_ss)\n",
    "    \n",
    "    acc_train = accuracy_score(preds_train, y_train)\n",
    "    acc_test = accuracy_score(preds_test, y_test)\n",
    "    \n",
    "    print(f\"{bt} train: {acc_train:.2f}\")\n",
    "    print(f\"{bt} test: {acc_test:.2f}\")\n",
    "    \n",
    "    train_accs.append(acc_train)\n",
    "    test_accs.append(acc_test)"
   ]
  },
  {
   "cell_type": "code",
   "execution_count": 18,
   "id": "f7b2a20f",
   "metadata": {},
   "outputs": [
    {
     "data": {
      "text/plain": [
       "'(2,0.69)(3,0.79)(4,0.84)(5,0.85)(6,0.88)(7,0.89)(8,0.89)(9,0.91)(10,0.91)'"
      ]
     },
     "execution_count": 18,
     "metadata": {},
     "output_type": "execute_result"
    }
   ],
   "source": [
    "\"\".join([f\"({i+2},{test_accs[i]:.2f})\" for i in range(9)])"
   ]
  },
  {
   "cell_type": "code",
   "execution_count": 40,
   "id": "bd334bdc",
   "metadata": {},
   "outputs": [],
   "source": [
    "plt.rcParams.update(\n",
    "    {\"text.usetex\": True, \"font.family\": \"serif\", \"font.serif\": [\"Computer Modern Roman\"],}\n",
    ")"
   ]
  },
  {
   "cell_type": "code",
   "execution_count": 39,
   "id": "c784ad0d",
   "metadata": {},
   "outputs": [
    {
     "data": {
      "text/plain": [
       "RcParams({'_internal.classic_mode': False,\n",
       "          'agg.path.chunksize': 0,\n",
       "          'animation.avconv_args': [],\n",
       "          'animation.avconv_path': 'avconv',\n",
       "          'animation.bitrate': -1,\n",
       "          'animation.codec': 'h264',\n",
       "          'animation.convert_args': [],\n",
       "          'animation.convert_path': 'convert',\n",
       "          'animation.embed_limit': 20.0,\n",
       "          'animation.ffmpeg_args': [],\n",
       "          'animation.ffmpeg_path': 'ffmpeg',\n",
       "          'animation.frame_format': 'png',\n",
       "          'animation.html': 'none',\n",
       "          'animation.html_args': [],\n",
       "          'animation.writer': 'ffmpeg',\n",
       "          'axes.autolimit_mode': 'data',\n",
       "          'axes.axisbelow': 'line',\n",
       "          'axes.edgecolor': 'black',\n",
       "          'axes.facecolor': 'white',\n",
       "          'axes.formatter.limits': [-5, 6],\n",
       "          'axes.formatter.min_exponent': 0,\n",
       "          'axes.formatter.offset_threshold': 4,\n",
       "          'axes.formatter.use_locale': False,\n",
       "          'axes.formatter.use_mathtext': False,\n",
       "          'axes.formatter.useoffset': True,\n",
       "          'axes.grid': False,\n",
       "          'axes.grid.axis': 'both',\n",
       "          'axes.grid.which': 'major',\n",
       "          'axes.labelcolor': 'black',\n",
       "          'axes.labelpad': 4.0,\n",
       "          'axes.labelsize': 'medium',\n",
       "          'axes.labelweight': 'normal',\n",
       "          'axes.linewidth': 0.8,\n",
       "          'axes.prop_cycle': cycler('color', ['#1f77b4', '#ff7f0e', '#2ca02c', '#d62728', '#9467bd', '#8c564b', '#e377c2', '#7f7f7f', '#bcbd22', '#17becf']),\n",
       "          'axes.spines.bottom': True,\n",
       "          'axes.spines.left': True,\n",
       "          'axes.spines.right': True,\n",
       "          'axes.spines.top': True,\n",
       "          'axes.titlecolor': 'auto',\n",
       "          'axes.titlelocation': 'center',\n",
       "          'axes.titlepad': 6.0,\n",
       "          'axes.titlesize': 'large',\n",
       "          'axes.titleweight': 'normal',\n",
       "          'axes.titley': None,\n",
       "          'axes.unicode_minus': True,\n",
       "          'axes.xmargin': 0.05,\n",
       "          'axes.ymargin': 0.05,\n",
       "          'axes.zmargin': 0.05,\n",
       "          'axes3d.grid': True,\n",
       "          'backend': 'module://matplotlib_inline.backend_inline',\n",
       "          'backend_fallback': True,\n",
       "          'boxplot.bootstrap': None,\n",
       "          'boxplot.boxprops.color': 'black',\n",
       "          'boxplot.boxprops.linestyle': '-',\n",
       "          'boxplot.boxprops.linewidth': 1.0,\n",
       "          'boxplot.capprops.color': 'black',\n",
       "          'boxplot.capprops.linestyle': '-',\n",
       "          'boxplot.capprops.linewidth': 1.0,\n",
       "          'boxplot.flierprops.color': 'black',\n",
       "          'boxplot.flierprops.linestyle': 'none',\n",
       "          'boxplot.flierprops.linewidth': 1.0,\n",
       "          'boxplot.flierprops.marker': 'o',\n",
       "          'boxplot.flierprops.markeredgecolor': 'black',\n",
       "          'boxplot.flierprops.markeredgewidth': 1.0,\n",
       "          'boxplot.flierprops.markerfacecolor': 'none',\n",
       "          'boxplot.flierprops.markersize': 6.0,\n",
       "          'boxplot.meanline': False,\n",
       "          'boxplot.meanprops.color': 'C2',\n",
       "          'boxplot.meanprops.linestyle': '--',\n",
       "          'boxplot.meanprops.linewidth': 1.0,\n",
       "          'boxplot.meanprops.marker': '^',\n",
       "          'boxplot.meanprops.markeredgecolor': 'C2',\n",
       "          'boxplot.meanprops.markerfacecolor': 'C2',\n",
       "          'boxplot.meanprops.markersize': 6.0,\n",
       "          'boxplot.medianprops.color': 'C1',\n",
       "          'boxplot.medianprops.linestyle': '-',\n",
       "          'boxplot.medianprops.linewidth': 1.0,\n",
       "          'boxplot.notch': False,\n",
       "          'boxplot.patchartist': False,\n",
       "          'boxplot.showbox': True,\n",
       "          'boxplot.showcaps': True,\n",
       "          'boxplot.showfliers': True,\n",
       "          'boxplot.showmeans': False,\n",
       "          'boxplot.vertical': True,\n",
       "          'boxplot.whiskerprops.color': 'black',\n",
       "          'boxplot.whiskerprops.linestyle': '-',\n",
       "          'boxplot.whiskerprops.linewidth': 1.0,\n",
       "          'boxplot.whiskers': 1.5,\n",
       "          'contour.corner_mask': True,\n",
       "          'contour.linewidth': None,\n",
       "          'contour.negative_linestyle': 'dashed',\n",
       "          'date.autoformatter.day': '%Y-%m-%d',\n",
       "          'date.autoformatter.hour': '%m-%d %H',\n",
       "          'date.autoformatter.microsecond': '%M:%S.%f',\n",
       "          'date.autoformatter.minute': '%d %H:%M',\n",
       "          'date.autoformatter.month': '%Y-%m',\n",
       "          'date.autoformatter.second': '%H:%M:%S',\n",
       "          'date.autoformatter.year': '%Y',\n",
       "          'date.converter': None,\n",
       "          'date.epoch': '1970-01-01T00:00:00',\n",
       "          'date.interval_multiples': None,\n",
       "          'docstring.hardcopy': False,\n",
       "          'errorbar.capsize': 0.0,\n",
       "          'figure.autolayout': False,\n",
       "          'figure.constrained_layout.h_pad': 0.04167,\n",
       "          'figure.constrained_layout.hspace': 0.02,\n",
       "          'figure.constrained_layout.use': False,\n",
       "          'figure.constrained_layout.w_pad': 0.04167,\n",
       "          'figure.constrained_layout.wspace': 0.02,\n",
       "          'figure.dpi': 72.0,\n",
       "          'figure.edgecolor': (1, 1, 1, 0),\n",
       "          'figure.facecolor': (1, 1, 1, 0),\n",
       "          'figure.figsize': [6.0, 4.0],\n",
       "          'figure.frameon': True,\n",
       "          'figure.max_open_warning': 20,\n",
       "          'figure.raise_window': True,\n",
       "          'figure.subplot.bottom': 0.125,\n",
       "          'figure.subplot.hspace': 0.2,\n",
       "          'figure.subplot.left': 0.125,\n",
       "          'figure.subplot.right': 0.9,\n",
       "          'figure.subplot.top': 0.88,\n",
       "          'figure.subplot.wspace': 0.2,\n",
       "          'figure.titlesize': 'large',\n",
       "          'figure.titleweight': 'normal',\n",
       "          'font.cursive': ['Apple Chancery',\n",
       "                           'Textile',\n",
       "                           'Zapf Chancery',\n",
       "                           'Sand',\n",
       "                           'Script MT',\n",
       "                           'Felipa',\n",
       "                           'Comic Neue',\n",
       "                           'Comic Sans MS',\n",
       "                           'cursive'],\n",
       "          'font.family': ['sans-serif'],\n",
       "          'font.fantasy': ['Chicago',\n",
       "                           'Charcoal',\n",
       "                           'Impact',\n",
       "                           'Western',\n",
       "                           'Humor Sans',\n",
       "                           'xkcd',\n",
       "                           'fantasy'],\n",
       "          'font.monospace': ['DejaVu Sans Mono',\n",
       "                             'Bitstream Vera Sans Mono',\n",
       "                             'Computer Modern Typewriter',\n",
       "                             'Andale Mono',\n",
       "                             'Nimbus Mono L',\n",
       "                             'Courier New',\n",
       "                             'Courier',\n",
       "                             'Fixed',\n",
       "                             'Terminal',\n",
       "                             'monospace'],\n",
       "          'font.sans-serif': ['DejaVu Sans',\n",
       "                              'Bitstream Vera Sans',\n",
       "                              'Computer Modern Sans Serif',\n",
       "                              'Lucida Grande',\n",
       "                              'Verdana',\n",
       "                              'Geneva',\n",
       "                              'Lucid',\n",
       "                              'Arial',\n",
       "                              'Helvetica',\n",
       "                              'Avant Garde',\n",
       "                              'sans-serif'],\n",
       "          'font.serif': ['DejaVu Serif',\n",
       "                         'Bitstream Vera Serif',\n",
       "                         'Computer Modern Roman',\n",
       "                         'New Century Schoolbook',\n",
       "                         'Century Schoolbook L',\n",
       "                         'Utopia',\n",
       "                         'ITC Bookman',\n",
       "                         'Bookman',\n",
       "                         'Nimbus Roman No9 L',\n",
       "                         'Times New Roman',\n",
       "                         'Times',\n",
       "                         'Palatino',\n",
       "                         'Charter',\n",
       "                         'serif'],\n",
       "          'font.size': 10.0,\n",
       "          'font.stretch': 'normal',\n",
       "          'font.style': 'normal',\n",
       "          'font.variant': 'normal',\n",
       "          'font.weight': 'normal',\n",
       "          'grid.alpha': 1.0,\n",
       "          'grid.color': '#b0b0b0',\n",
       "          'grid.linestyle': '-',\n",
       "          'grid.linewidth': 0.8,\n",
       "          'hatch.color': 'black',\n",
       "          'hatch.linewidth': 1.0,\n",
       "          'hist.bins': 10,\n",
       "          'image.aspect': 'equal',\n",
       "          'image.cmap': 'viridis',\n",
       "          'image.composite_image': True,\n",
       "          'image.interpolation': 'antialiased',\n",
       "          'image.lut': 256,\n",
       "          'image.origin': 'upper',\n",
       "          'image.resample': True,\n",
       "          'interactive': True,\n",
       "          'keymap.all_axes': ['a'],\n",
       "          'keymap.back': ['left', 'c', 'backspace', 'MouseButton.BACK'],\n",
       "          'keymap.copy': ['ctrl+c', 'cmd+c'],\n",
       "          'keymap.forward': ['right', 'v', 'MouseButton.FORWARD'],\n",
       "          'keymap.fullscreen': ['f', 'ctrl+f'],\n",
       "          'keymap.grid': ['g'],\n",
       "          'keymap.grid_minor': ['G'],\n",
       "          'keymap.help': ['f1'],\n",
       "          'keymap.home': ['h', 'r', 'home'],\n",
       "          'keymap.pan': ['p'],\n",
       "          'keymap.quit': ['ctrl+w', 'cmd+w', 'q'],\n",
       "          'keymap.quit_all': [],\n",
       "          'keymap.save': ['s', 'ctrl+s'],\n",
       "          'keymap.xscale': ['k', 'L'],\n",
       "          'keymap.yscale': ['l'],\n",
       "          'keymap.zoom': ['o'],\n",
       "          'legend.borderaxespad': 0.5,\n",
       "          'legend.borderpad': 0.4,\n",
       "          'legend.columnspacing': 2.0,\n",
       "          'legend.edgecolor': '0.8',\n",
       "          'legend.facecolor': 'inherit',\n",
       "          'legend.fancybox': True,\n",
       "          'legend.fontsize': 'medium',\n",
       "          'legend.framealpha': 0.8,\n",
       "          'legend.frameon': True,\n",
       "          'legend.handleheight': 0.7,\n",
       "          'legend.handlelength': 2.0,\n",
       "          'legend.handletextpad': 0.8,\n",
       "          'legend.labelspacing': 0.5,\n",
       "          'legend.loc': 'best',\n",
       "          'legend.markerscale': 1.0,\n",
       "          'legend.numpoints': 1,\n",
       "          'legend.scatterpoints': 1,\n",
       "          'legend.shadow': False,\n",
       "          'legend.title_fontsize': None,\n",
       "          'lines.antialiased': True,\n",
       "          'lines.color': 'C0',\n",
       "          'lines.dash_capstyle': <CapStyle.butt: 'butt'>,\n",
       "          'lines.dash_joinstyle': <JoinStyle.round: 'round'>,\n",
       "          'lines.dashdot_pattern': [6.4, 1.6, 1.0, 1.6],\n",
       "          'lines.dashed_pattern': [3.7, 1.6],\n",
       "          'lines.dotted_pattern': [1.0, 1.65],\n",
       "          'lines.linestyle': '-',\n",
       "          'lines.linewidth': 1.5,\n",
       "          'lines.marker': 'None',\n",
       "          'lines.markeredgecolor': 'auto',\n",
       "          'lines.markeredgewidth': 1.0,\n",
       "          'lines.markerfacecolor': 'auto',\n",
       "          'lines.markersize': 6.0,\n",
       "          'lines.scale_dashes': True,\n",
       "          'lines.solid_capstyle': <CapStyle.projecting: 'projecting'>,\n",
       "          'lines.solid_joinstyle': <JoinStyle.round: 'round'>,\n",
       "          'markers.fillstyle': 'full',\n",
       "          'mathtext.bf': 'sans:bold',\n",
       "          'mathtext.cal': 'cursive',\n",
       "          'mathtext.default': 'it',\n",
       "          'mathtext.fallback': 'cm',\n",
       "          'mathtext.fallback_to_cm': None,\n",
       "          'mathtext.fontset': 'dejavusans',\n",
       "          'mathtext.it': 'sans:italic',\n",
       "          'mathtext.rm': 'sans',\n",
       "          'mathtext.sf': 'sans',\n",
       "          'mathtext.tt': 'monospace',\n",
       "          'patch.antialiased': True,\n",
       "          'patch.edgecolor': 'black',\n",
       "          'patch.facecolor': 'C0',\n",
       "          'patch.force_edgecolor': False,\n",
       "          'patch.linewidth': 1.0,\n",
       "          'path.effects': [],\n",
       "          'path.simplify': True,\n",
       "          'path.simplify_threshold': 0.111111111111,\n",
       "          'path.sketch': None,\n",
       "          'path.snap': True,\n",
       "          'pcolor.shading': 'flat',\n",
       "          'pcolormesh.snap': True,\n",
       "          'pdf.compression': 6,\n",
       "          'pdf.fonttype': 3,\n",
       "          'pdf.inheritcolor': False,\n",
       "          'pdf.use14corefonts': False,\n",
       "          'pgf.preamble': '',\n",
       "          'pgf.rcfonts': True,\n",
       "          'pgf.texsystem': 'xelatex',\n",
       "          'polaraxes.grid': True,\n",
       "          'ps.distiller.res': 6000,\n",
       "          'ps.fonttype': 3,\n",
       "          'ps.papersize': 'letter',\n",
       "          'ps.useafm': False,\n",
       "          'ps.usedistiller': None,\n",
       "          'savefig.bbox': None,\n",
       "          'savefig.directory': '~',\n",
       "          'savefig.dpi': 'figure',\n",
       "          'savefig.edgecolor': 'auto',\n",
       "          'savefig.facecolor': 'auto',\n",
       "          'savefig.format': 'png',\n",
       "          'savefig.jpeg_quality': 95,\n",
       "          'savefig.orientation': 'portrait',\n",
       "          'savefig.pad_inches': 0.1,\n",
       "          'savefig.transparent': False,\n",
       "          'scatter.edgecolors': 'face',\n",
       "          'scatter.marker': 'o',\n",
       "          'svg.fonttype': 'path',\n",
       "          'svg.hashsalt': None,\n",
       "          'svg.image_inline': True,\n",
       "          'text.antialiased': True,\n",
       "          'text.color': 'black',\n",
       "          'text.hinting': 'force_autohint',\n",
       "          'text.hinting_factor': 8,\n",
       "          'text.kerning_factor': 0,\n",
       "          'text.latex.preamble': '',\n",
       "          'text.latex.preview': False,\n",
       "          'text.usetex': False,\n",
       "          'timezone': 'UTC',\n",
       "          'tk.window_focus': False,\n",
       "          'toolbar': 'toolbar2',\n",
       "          'webagg.address': '127.0.0.1',\n",
       "          'webagg.open_in_browser': True,\n",
       "          'webagg.port': 8988,\n",
       "          'webagg.port_retries': 50,\n",
       "          'xaxis.labellocation': 'center',\n",
       "          'xtick.alignment': 'center',\n",
       "          'xtick.bottom': True,\n",
       "          'xtick.color': 'black',\n",
       "          'xtick.direction': 'out',\n",
       "          'xtick.labelbottom': True,\n",
       "          'xtick.labelcolor': 'inherit',\n",
       "          'xtick.labelsize': 'medium',\n",
       "          'xtick.labeltop': False,\n",
       "          'xtick.major.bottom': True,\n",
       "          'xtick.major.pad': 3.5,\n",
       "          'xtick.major.size': 3.5,\n",
       "          'xtick.major.top': True,\n",
       "          'xtick.major.width': 0.8,\n",
       "          'xtick.minor.bottom': True,\n",
       "          'xtick.minor.pad': 3.4,\n",
       "          'xtick.minor.size': 2.0,\n",
       "          'xtick.minor.top': True,\n",
       "          'xtick.minor.visible': False,\n",
       "          'xtick.minor.width': 0.6,\n",
       "          'xtick.top': False,\n",
       "          'yaxis.labellocation': 'center',\n",
       "          'ytick.alignment': 'center_baseline',\n",
       "          'ytick.color': 'black',\n",
       "          'ytick.direction': 'out',\n",
       "          'ytick.labelcolor': 'inherit',\n",
       "          'ytick.labelleft': True,\n",
       "          'ytick.labelright': False,\n",
       "          'ytick.labelsize': 'medium',\n",
       "          'ytick.left': True,\n",
       "          'ytick.major.left': True,\n",
       "          'ytick.major.pad': 3.5,\n",
       "          'ytick.major.right': True,\n",
       "          'ytick.major.size': 3.5,\n",
       "          'ytick.major.width': 0.8,\n",
       "          'ytick.minor.left': True,\n",
       "          'ytick.minor.pad': 3.4,\n",
       "          'ytick.minor.right': True,\n",
       "          'ytick.minor.size': 2.0,\n",
       "          'ytick.minor.visible': False,\n",
       "          'ytick.minor.width': 0.6,\n",
       "          'ytick.right': False})"
      ]
     },
     "execution_count": 39,
     "metadata": {},
     "output_type": "execute_result"
    }
   ],
   "source": [
    "plt.rcParams"
   ]
  },
  {
   "cell_type": "code",
   "execution_count": 43,
   "id": "cd1cb569",
   "metadata": {},
   "outputs": [
    {
     "data": {
      "image/png": "[encoded data removed]",
      "text/plain": [
       "<Figure size 432x288 with 4 Axes>"
      ]
     },
     "metadata": {
      "needs_background": "light"
     },
     "output_type": "display_data"
    }
   ],
   "source": [
    "fig, axs = plt.subplots(1, 4)\n",
    "\n",
    "idx = 7\n",
    "\n",
    "axs[0].imshow(X_train[idx].reshape((28,28)), cmap=\"gray\", interpolation=\"none\")\n",
    "axs[0].set_title(\"Original\")\n",
    "axs[1].imshow(X_train_sobelx[idx].reshape((28,28)), cmap=\"gray\", interpolation=\"none\")\n",
    "axs[1].set_title(\"Sobel $x$\")\n",
    "axs[2].imshow(X_train_sobely[idx].reshape((28,28)), cmap=\"gray\", interpolation=\"none\")\n",
    "axs[2].set_title(\"Sobel $y$\")\n",
    "axs[3].imshow(X_train_ss[idx].reshape((28,28)), cmap=\"gray\", interpolation=\"none\")\n",
    "axs[3].set_title(\"Original\\n+ Sobel $x$\\n+ Sobel $y$\")\n",
    "\n",
    "for ax in axs:\n",
    "    ax.axis(\"off\")\n",
    "    \n",
    "plt.tight_layout()"
   ]
  },
  {
   "cell_type": "code",
   "execution_count": 44,
   "id": "b717d1aa",
   "metadata": {},
   "outputs": [],
   "source": [
    "fig.savefig(r\"thesis/images/sobel.pdf\", bbox_inches=\"tight\")"
   ]
  },
  {
   "cell_type": "markdown",
   "id": "a7d55f5f",
   "metadata": {},
   "source": [
    "# Boosting\n",
    "\n",
    "**Algo**\n",
    "- Train base classifier $g_0$\n",
    "- Train new classifier $g_1$ on previously misclassified examples\n",
    "- $g = g_0 + g_1$\n",
    "- Train new classifier $g_2$ on previously misclassified examples\n",
    "- Repeat $n$ times"
   ]
  },
  {
   "cell_type": "code",
   "execution_count": 23,
   "id": "2e081dc6",
   "metadata": {},
   "outputs": [
    {
     "name": "stderr",
     "output_type": "stream",
     "text": [
      "100%|█████████████████████████████████████████████████████████████████████████████████████████████████████████████████████████████████████| 5/5 [00:13<00:00,  2.79s/it]"
     ]
    },
    {
     "name": "stdout",
     "output_type": "stream",
     "text": [
      "Accuracy on training set: 0.65\n"
     ]
    },
    {
     "name": "stderr",
     "output_type": "stream",
     "text": [
      "\n"
     ]
    },
    {
     "name": "stdout",
     "output_type": "stream",
     "text": [
      "Accuracy on test set: 0.67\n",
      "CPU times: user 7.63 s, sys: 4.77 s, total: 12.4 s\n",
      "Wall time: 15.7 s\n"
     ]
    }
   ],
   "source": [
    "%%time\n",
    "\n",
    "hidden_layers = [1024] * 5\n",
    "lut = Lut(bits=[2] * (len(hidden_layers) + 1), hidden_layers=hidden_layers, verbose=True)\n",
    "\n",
    "preds_train = lut.train(X_train, y_train)\n",
    "print(f\"Accuracy on training set: {accuracy_score(preds_train, y_train):.2f}\")\n",
    "preds_test = lut.predict(X_test)\n",
    "print(f\"Accuracy on test set: {accuracy_score(preds_test, y_test):.2f}\")"
   ]
  },
  {
   "cell_type": "code",
   "execution_count": 6,
   "id": "5a81f881",
   "metadata": {},
   "outputs": [],
   "source": [
    "class boostedLutClassifier:\n",
    "    \"\"\"\n",
    "    Boosted Lut classifier\n",
    "    \"\"\"\n",
    "    def __init__(self, bits, hidden_layers, num_lut_networks):\n",
    "        self.bits = bits\n",
    "        self.hidden_layers = hidden_layers\n",
    "        self.num_lut_networks = num_lut_networks\n",
    "        self.lut_networks_ = []\n",
    "        self.alphas = []\n",
    "        \n",
    "    def train(self, X, y):\n",
    "        weights = np.ones((X.shape[0],)) / X.shape[0]\n",
    "        with tqdm(range(self.num_lut_networks - 1)) as t:\n",
    "            for _ in t:\n",
    "                lut = Lut(bits=self.bits, hidden_layers=self.hidden_layers)\n",
    "                preds = lut.train(X, y)\n",
    "                self.lut_networks_.append(lut)\n",
    "                errn = np.sum(weights * (preds != y)) / np.sum(weights)\n",
    "                alpha = np.log((1 - errn) / errn)\n",
    "                self.alphas.append(alpha)\n",
    "                weights = weights * np.exp(alpha * (preds != y))\n",
    "        \n",
    "    def predict(self, X):\n",
    "        for idx, lut in enumerate(self.lut_networks_):\n",
    "            if idx == 0:\n",
    "                preds = lut.predict(X).astype(float)\n",
    "                preds[preds == 0] = -1\n",
    "                preds *= self.alphas[idx]\n",
    "            else:\n",
    "                preds_ = lut.predict(X).astype(float)\n",
    "                preds_[preds_ == 0] = -1\n",
    "                preds_ *= self.alphas[idx]\n",
    "                preds += preds_\n",
    "        preds = np.sign(preds)\n",
    "        preds[preds == -1] = 0\n",
    "        preds = preds.astype(int)\n",
    "        return preds"
   ]
  },
  {
   "cell_type": "code",
   "execution_count": 7,
   "id": "d58f900a",
   "metadata": {},
   "outputs": [
    {
     "name": "stderr",
     "output_type": "stream",
     "text": [
      "100%|█████████████████████████████████████████████████████████████████████████████████████████████████████████████████████████████████| 255/255 [52:30<00:00, 12.35s/it]\n"
     ]
    },
    {
     "name": "stdout",
     "output_type": "stream",
     "text": [
      "Num trees: 256 Accuracy on training set: 0.82\n",
      "Num trees: 256 Accuracy on test set: 0.83\n"
     ]
    },
    {
     "name": "stderr",
     "output_type": "stream",
     "text": [
      "100%|███████████████████████████████████████████████████████████████████████████████████████████████████████████████████████████████| 511/511 [1:45:27<00:00, 12.38s/it]\n"
     ]
    },
    {
     "name": "stdout",
     "output_type": "stream",
     "text": [
      "Num trees: 512 Accuracy on training set: 0.87\n",
      "Num trees: 512 Accuracy on test set: 0.87\n"
     ]
    },
    {
     "name": "stderr",
     "output_type": "stream",
     "text": [
      "100%|█████████████████████████████████████████████████████████████████████████████████████████████████████████████████████████████| 1023/1023 [3:36:31<00:00, 12.70s/it]\n"
     ]
    },
    {
     "name": "stdout",
     "output_type": "stream",
     "text": [
      "Num trees: 1024 Accuracy on training set: 0.89\n",
      "Num trees: 1024 Accuracy on test set: 0.89\n",
      "CPU times: user 6h 38min 14s, sys: 3h 16min, total: 9h 54min 15s\n",
      "Wall time: 11h 27min 5s\n"
     ]
    }
   ],
   "source": [
    "%%time\n",
    "\n",
    "num_trees_arr = [256, 512, 1024]\n",
    "\n",
    "tr_accs = []\n",
    "te_accs = []\n",
    "\n",
    "for num_trees in num_trees_arr:\n",
    "    hidden_layers = [1024] * 5\n",
    "    bits= [2] * (len(hidden_layers) + 1)\n",
    "\n",
    "    clf = boostedLutClassifier(bits, hidden_layers, num_trees)\n",
    "    clf.train(X_train, y_train)\n",
    "\n",
    "    preds_train = clf.predict(X_train)\n",
    "    tr_acc = accuracy_score(preds_train, y_train)\n",
    "    tr_accs.append(tr_acc)\n",
    "    print(f\"Num trees: {num_trees} Accuracy on training set: {tr_acc:.2f}\")\n",
    "    preds_test = clf.predict(X_test)\n",
    "    te_acc = accuracy_score(preds_test, y_test)\n",
    "    te_accs.append(te_acc)\n",
    "    print(f\"Num trees: {num_trees} Accuracy on test set: {te_acc:.2f}\")"
   ]
  },
  {
   "cell_type": "markdown",
   "id": "47d0dc31",
   "metadata": {},
   "source": [
    "```python\n",
    "num_trees_arr = [2, 4, 8, 16, 32, 64, 128]\n",
    "\n",
    "tr_accs = [\n",
    "    0.67,\n",
    "    0.71,\n",
    "    0.75,\n",
    "    0.76,\n",
    "    0.76,\n",
    "    0.78,\n",
    "    0.79,\n",
    "]\n",
    "\n",
    "te_accs = [\n",
    "    0.69,\n",
    "    0.73,\n",
    "    0.75,\n",
    "    0.78,\n",
    "    0.77,\n",
    "    0.79,\n",
    "    0.80,\n",
    "]\n",
    "```"
   ]
  },
  {
   "cell_type": "markdown",
   "id": "ef878cf8",
   "metadata": {},
   "source": [
    "# Random forests\n",
    "\n",
    "**Algo**\n",
    "- For each individual tree\n",
    "  - Select subset of training data"
   ]
  },
  {
   "cell_type": "code",
   "execution_count": 13,
   "id": "a8ff5029",
   "metadata": {},
   "outputs": [],
   "source": [
    "class randomLutClassifier:\n",
    "    \"\"\"\n",
    "    Random forest-like lut classifier\n",
    "    \"\"\"\n",
    "    def __init__(self, bits, hidden_layers, num_lut_networks):\n",
    "        self.bits = bits\n",
    "        self.hidden_layers = hidden_layers\n",
    "        self.num_lut_networks = num_lut_networks\n",
    "        self.lut_networks_ = []\n",
    "        self.masks = []\n",
    "        \n",
    "    def train(self, X, y):\n",
    "        with tqdm(range(self.num_lut_networks - 1)) as t:\n",
    "            for _ in t:\n",
    "                lut = Lut(bits=self.bits, hidden_layers=self.hidden_layers)\n",
    "                mask = np.random.choice([True, False], size=X.shape[0])\n",
    "                self.masks.append(mask)\n",
    "                preds = lut.train(X[mask], y[mask])\n",
    "                self.lut_networks_.append(lut)\n",
    "        \n",
    "    def predict(self, X):\n",
    "        preds = []\n",
    "        for idx, lut in enumerate(self.lut_networks_):\n",
    "            pred = lut.predict(X)\n",
    "            preds.append(pred)\n",
    "                \n",
    "        preds = np.apply_along_axis(scipy.stats.mode, 0, preds)[0][0]\n",
    "        return preds"
   ]
  },
  {
   "cell_type": "code",
   "execution_count": 17,
   "id": "e96cb72b",
   "metadata": {},
   "outputs": [
    {
     "name": "stderr",
     "output_type": "stream",
     "text": [
      "100%|████████████████████████████████████████████████████████████████████████████████████████████████████████████████████████████████| 63/63 [3:30:22<00:00, 200.36s/it]\n"
     ]
    },
    {
     "name": "stdout",
     "output_type": "stream",
     "text": [
      "Accuracy on training set: 0.89\n",
      "Accuracy on test set: 0.87\n",
      "CPU times: user 40min 8s, sys: 38min 27s, total: 1h 18min 36s\n",
      "Wall time: 12h 12s\n"
     ]
    }
   ],
   "source": [
    "%%time\n",
    "\n",
    "hidden_layers = [1024] * 5\n",
    "clf = randomLutClassifier(bits=[8] * (len(hidden_layers) + 1), hidden_layers=hidden_layers, num_lut_networks=64)\n",
    "clf.train(X_train, y_train)\n",
    "\n",
    "preds_train = clf.predict(X_train)\n",
    "print(f\"Accuracy on training set: {accuracy_score(preds_train, y_train):.2f}\")\n",
    "preds_test = clf.predict(X_test)\n",
    "print(f\"Accuracy on test set: {accuracy_score(preds_test, y_test):.2f}\")"
   ]
  },
  {
   "cell_type": "markdown",
   "id": "371865fe",
   "metadata": {},
   "source": [
    "# Combining different methods"
   ]
  },
  {
   "cell_type": "code",
   "execution_count": 21,
   "id": "691da183",
   "metadata": {},
   "outputs": [],
   "source": [
    "X_train_sobel = get_sobel_dataset(X_train)\n",
    "X_test_sobel = get_sobel_dataset(X_test)"
   ]
  },
  {
   "cell_type": "code",
   "execution_count": 22,
   "id": "a5be85da",
   "metadata": {},
   "outputs": [
    {
     "name": "stderr",
     "output_type": "stream",
     "text": [
      "Layer 4 Acc 0.9250: 100%|███████████████████████████████████████████████████████████████████████████████████████████████████████████| 5/5 [28:17:21<00:00, 20368.32s/it]\n"
     ]
    },
    {
     "name": "stdout",
     "output_type": "stream",
     "text": [
      "Accuracy on training set: 0.93\n",
      "Accuracy on test set: 0.92\n",
      "CPU times: user 3h 1min 33s, sys: 2h 32min 57s, total: 5h 34min 30s\n",
      "Wall time: 1d 4h 25min 35s\n"
     ]
    }
   ],
   "source": [
    "%%time\n",
    "\n",
    "hidden_layers = [1024] * 5\n",
    "lut = Lut(\n",
    "    bits=[8] * (len(hidden_layers) + 1),\n",
    "    hidden_layers=hidden_layers,\n",
    "    verbose=True,\n",
    "    improve_layer_acc=True,\n",
    "    discard_num=50,\n",
    "    patience=5,\n",
    ")\n",
    "_ = lut.train(X_train_sobel, y_train)\n",
    "\n",
    "preds_train = lut.predict(X_train_sobel, majority_vote=True)\n",
    "print(f\"Accuracy on training set: {accuracy_score(preds_train, y_train):.2f}\")\n",
    "preds_test = lut.predict(X_test_sobel, majority_vote=True)\n",
    "print(f\"Accuracy on test set: {accuracy_score(preds_test, y_test):.2f}\")"
   ]
  }
 ],
 "metadata": {
  "kernelspec": {
   "display_name": "Python 3 (ipykernel)",
   "language": "python",
   "name": "python3"
  },
  "language_info": {
   "codemirror_mode": {
    "name": "ipython",
    "version": 3
   },
   "file_extension": ".py",
   "mimetype": "text/x-python",
   "name": "python",
   "nbconvert_exporter": "python",
   "pygments_lexer": "ipython3",
   "version": "3.9.7"
  }
 },
 "nbformat": 4,
 "nbformat_minor": 5
}
